{
 "cells": [
  {
   "cell_type": "code",
   "execution_count": 118,
   "metadata": {},
   "outputs": [],
   "source": [
    "import pandas as pd\n",
    "import numpy as np\n",
    "import seaborn as sns\n",
    "import matplotlib.pyplot as plt\n",
    "\n",
    "%matplotlib inline\n",
    "\n",
    "\n",
    "from statsmodels.tsa.stattools import adfuller"
   ]
  },
  {
   "cell_type": "code",
   "execution_count": 105,
   "metadata": {},
   "outputs": [],
   "source": [
    "df = pd.read_csv('./data/Nvidia_stock_price_history.csv')"
   ]
  },
  {
   "cell_type": "code",
   "execution_count": 106,
   "metadata": {},
   "outputs": [
    {
     "data": {
      "text/html": [
       "<div>\n",
       "<style scoped>\n",
       "    .dataframe tbody tr th:only-of-type {\n",
       "        vertical-align: middle;\n",
       "    }\n",
       "\n",
       "    .dataframe tbody tr th {\n",
       "        vertical-align: top;\n",
       "    }\n",
       "\n",
       "    .dataframe thead th {\n",
       "        text-align: right;\n",
       "    }\n",
       "</style>\n",
       "<table border=\"1\" class=\"dataframe\">\n",
       "  <thead>\n",
       "    <tr style=\"text-align: right;\">\n",
       "      <th></th>\n",
       "      <th>Date</th>\n",
       "      <th>Open</th>\n",
       "      <th>High</th>\n",
       "      <th>Low</th>\n",
       "      <th>Close</th>\n",
       "      <th>Adj Close</th>\n",
       "      <th>Volume</th>\n",
       "    </tr>\n",
       "  </thead>\n",
       "  <tbody>\n",
       "    <tr>\n",
       "      <th>0</th>\n",
       "      <td>1999-01-22</td>\n",
       "      <td>1.750000</td>\n",
       "      <td>1.953125</td>\n",
       "      <td>1.552083</td>\n",
       "      <td>1.640625</td>\n",
       "      <td>1.507891</td>\n",
       "      <td>67867200</td>\n",
       "    </tr>\n",
       "    <tr>\n",
       "      <th>1</th>\n",
       "      <td>1999-01-25</td>\n",
       "      <td>1.770833</td>\n",
       "      <td>1.833333</td>\n",
       "      <td>1.640625</td>\n",
       "      <td>1.812500</td>\n",
       "      <td>1.665861</td>\n",
       "      <td>12762000</td>\n",
       "    </tr>\n",
       "    <tr>\n",
       "      <th>2</th>\n",
       "      <td>1999-01-26</td>\n",
       "      <td>1.833333</td>\n",
       "      <td>1.869792</td>\n",
       "      <td>1.645833</td>\n",
       "      <td>1.671875</td>\n",
       "      <td>1.536613</td>\n",
       "      <td>8580000</td>\n",
       "    </tr>\n",
       "    <tr>\n",
       "      <th>3</th>\n",
       "      <td>1999-01-27</td>\n",
       "      <td>1.677083</td>\n",
       "      <td>1.718750</td>\n",
       "      <td>1.583333</td>\n",
       "      <td>1.666667</td>\n",
       "      <td>1.531826</td>\n",
       "      <td>6109200</td>\n",
       "    </tr>\n",
       "    <tr>\n",
       "      <th>4</th>\n",
       "      <td>1999-01-28</td>\n",
       "      <td>1.666667</td>\n",
       "      <td>1.677083</td>\n",
       "      <td>1.651042</td>\n",
       "      <td>1.661458</td>\n",
       "      <td>1.527039</td>\n",
       "      <td>5688000</td>\n",
       "    </tr>\n",
       "    <tr>\n",
       "      <th>...</th>\n",
       "      <td>...</td>\n",
       "      <td>...</td>\n",
       "      <td>...</td>\n",
       "      <td>...</td>\n",
       "      <td>...</td>\n",
       "      <td>...</td>\n",
       "      <td>...</td>\n",
       "    </tr>\n",
       "    <tr>\n",
       "      <th>5624</th>\n",
       "      <td>2021-05-28</td>\n",
       "      <td>620.039978</td>\n",
       "      <td>651.099976</td>\n",
       "      <td>620.039978</td>\n",
       "      <td>649.780029</td>\n",
       "      <td>649.780029</td>\n",
       "      <td>16113400</td>\n",
       "    </tr>\n",
       "    <tr>\n",
       "      <th>5625</th>\n",
       "      <td>2021-06-01</td>\n",
       "      <td>650.799988</td>\n",
       "      <td>655.530029</td>\n",
       "      <td>636.130005</td>\n",
       "      <td>650.580017</td>\n",
       "      <td>650.580017</td>\n",
       "      <td>11820100</td>\n",
       "    </tr>\n",
       "    <tr>\n",
       "      <th>5626</th>\n",
       "      <td>2021-06-02</td>\n",
       "      <td>650.090027</td>\n",
       "      <td>676.750000</td>\n",
       "      <td>649.419983</td>\n",
       "      <td>671.130005</td>\n",
       "      <td>671.130005</td>\n",
       "      <td>14854200</td>\n",
       "    </tr>\n",
       "    <tr>\n",
       "      <th>5627</th>\n",
       "      <td>2021-06-03</td>\n",
       "      <td>668.030029</td>\n",
       "      <td>690.359985</td>\n",
       "      <td>663.320007</td>\n",
       "      <td>678.789978</td>\n",
       "      <td>678.789978</td>\n",
       "      <td>14500200</td>\n",
       "    </tr>\n",
       "    <tr>\n",
       "      <th>5628</th>\n",
       "      <td>2021-06-04</td>\n",
       "      <td>684.500000</td>\n",
       "      <td>706.440002</td>\n",
       "      <td>683.820007</td>\n",
       "      <td>703.130005</td>\n",
       "      <td>703.130005</td>\n",
       "      <td>15411300</td>\n",
       "    </tr>\n",
       "  </tbody>\n",
       "</table>\n",
       "<p>5629 rows × 7 columns</p>\n",
       "</div>"
      ],
      "text/plain": [
       "            Date        Open        High         Low       Close   Adj Close  \\\n",
       "0     1999-01-22    1.750000    1.953125    1.552083    1.640625    1.507891   \n",
       "1     1999-01-25    1.770833    1.833333    1.640625    1.812500    1.665861   \n",
       "2     1999-01-26    1.833333    1.869792    1.645833    1.671875    1.536613   \n",
       "3     1999-01-27    1.677083    1.718750    1.583333    1.666667    1.531826   \n",
       "4     1999-01-28    1.666667    1.677083    1.651042    1.661458    1.527039   \n",
       "...          ...         ...         ...         ...         ...         ...   \n",
       "5624  2021-05-28  620.039978  651.099976  620.039978  649.780029  649.780029   \n",
       "5625  2021-06-01  650.799988  655.530029  636.130005  650.580017  650.580017   \n",
       "5626  2021-06-02  650.090027  676.750000  649.419983  671.130005  671.130005   \n",
       "5627  2021-06-03  668.030029  690.359985  663.320007  678.789978  678.789978   \n",
       "5628  2021-06-04  684.500000  706.440002  683.820007  703.130005  703.130005   \n",
       "\n",
       "        Volume  \n",
       "0     67867200  \n",
       "1     12762000  \n",
       "2      8580000  \n",
       "3      6109200  \n",
       "4      5688000  \n",
       "...        ...  \n",
       "5624  16113400  \n",
       "5625  11820100  \n",
       "5626  14854200  \n",
       "5627  14500200  \n",
       "5628  15411300  \n",
       "\n",
       "[5629 rows x 7 columns]"
      ]
     },
     "execution_count": 106,
     "metadata": {},
     "output_type": "execute_result"
    }
   ],
   "source": [
    "df"
   ]
  },
  {
   "cell_type": "code",
   "execution_count": 107,
   "metadata": {},
   "outputs": [],
   "source": [
    "df['daily_change'] = (df.Close - df.Open) / df.Open * 100"
   ]
  },
  {
   "cell_type": "code",
   "execution_count": 108,
   "metadata": {},
   "outputs": [],
   "source": [
    "df['Date'] = pd.to_datetime(df['Date'])"
   ]
  },
  {
   "cell_type": "code",
   "execution_count": 109,
   "metadata": {},
   "outputs": [],
   "source": [
    "df = df[df.Date >= '2015-01-01']"
   ]
  },
  {
   "cell_type": "code",
   "execution_count": 110,
   "metadata": {},
   "outputs": [
    {
     "data": {
      "text/html": [
       "<div>\n",
       "<style scoped>\n",
       "    .dataframe tbody tr th:only-of-type {\n",
       "        vertical-align: middle;\n",
       "    }\n",
       "\n",
       "    .dataframe tbody tr th {\n",
       "        vertical-align: top;\n",
       "    }\n",
       "\n",
       "    .dataframe thead th {\n",
       "        text-align: right;\n",
       "    }\n",
       "</style>\n",
       "<table border=\"1\" class=\"dataframe\">\n",
       "  <thead>\n",
       "    <tr style=\"text-align: right;\">\n",
       "      <th></th>\n",
       "      <th>Date</th>\n",
       "      <th>Open</th>\n",
       "      <th>High</th>\n",
       "      <th>Low</th>\n",
       "      <th>Close</th>\n",
       "      <th>Adj Close</th>\n",
       "      <th>Volume</th>\n",
       "      <th>daily_change</th>\n",
       "    </tr>\n",
       "  </thead>\n",
       "  <tbody>\n",
       "    <tr>\n",
       "      <th>4012</th>\n",
       "      <td>2015-01-02</td>\n",
       "      <td>20.129999</td>\n",
       "      <td>20.280001</td>\n",
       "      <td>19.809999</td>\n",
       "      <td>20.129999</td>\n",
       "      <td>19.368101</td>\n",
       "      <td>2842000</td>\n",
       "      <td>0.000000</td>\n",
       "    </tr>\n",
       "    <tr>\n",
       "      <th>4013</th>\n",
       "      <td>2015-01-05</td>\n",
       "      <td>20.129999</td>\n",
       "      <td>20.190001</td>\n",
       "      <td>19.700001</td>\n",
       "      <td>19.790001</td>\n",
       "      <td>19.040976</td>\n",
       "      <td>4948800</td>\n",
       "      <td>-1.689012</td>\n",
       "    </tr>\n",
       "    <tr>\n",
       "      <th>4014</th>\n",
       "      <td>2015-01-06</td>\n",
       "      <td>19.820000</td>\n",
       "      <td>19.840000</td>\n",
       "      <td>19.170000</td>\n",
       "      <td>19.190001</td>\n",
       "      <td>18.463682</td>\n",
       "      <td>4944100</td>\n",
       "      <td>-3.178602</td>\n",
       "    </tr>\n",
       "    <tr>\n",
       "      <th>4015</th>\n",
       "      <td>2015-01-07</td>\n",
       "      <td>19.330000</td>\n",
       "      <td>19.500000</td>\n",
       "      <td>19.080000</td>\n",
       "      <td>19.139999</td>\n",
       "      <td>18.415575</td>\n",
       "      <td>8045200</td>\n",
       "      <td>-0.982933</td>\n",
       "    </tr>\n",
       "    <tr>\n",
       "      <th>4016</th>\n",
       "      <td>2015-01-08</td>\n",
       "      <td>19.360001</td>\n",
       "      <td>19.980000</td>\n",
       "      <td>19.350000</td>\n",
       "      <td>19.860001</td>\n",
       "      <td>19.108328</td>\n",
       "      <td>7094500</td>\n",
       "      <td>2.582644</td>\n",
       "    </tr>\n",
       "    <tr>\n",
       "      <th>...</th>\n",
       "      <td>...</td>\n",
       "      <td>...</td>\n",
       "      <td>...</td>\n",
       "      <td>...</td>\n",
       "      <td>...</td>\n",
       "      <td>...</td>\n",
       "      <td>...</td>\n",
       "      <td>...</td>\n",
       "    </tr>\n",
       "    <tr>\n",
       "      <th>5624</th>\n",
       "      <td>2021-05-28</td>\n",
       "      <td>620.039978</td>\n",
       "      <td>651.099976</td>\n",
       "      <td>620.039978</td>\n",
       "      <td>649.780029</td>\n",
       "      <td>649.780029</td>\n",
       "      <td>16113400</td>\n",
       "      <td>4.796473</td>\n",
       "    </tr>\n",
       "    <tr>\n",
       "      <th>5625</th>\n",
       "      <td>2021-06-01</td>\n",
       "      <td>650.799988</td>\n",
       "      <td>655.530029</td>\n",
       "      <td>636.130005</td>\n",
       "      <td>650.580017</td>\n",
       "      <td>650.580017</td>\n",
       "      <td>11820100</td>\n",
       "      <td>-0.033800</td>\n",
       "    </tr>\n",
       "    <tr>\n",
       "      <th>5626</th>\n",
       "      <td>2021-06-02</td>\n",
       "      <td>650.090027</td>\n",
       "      <td>676.750000</td>\n",
       "      <td>649.419983</td>\n",
       "      <td>671.130005</td>\n",
       "      <td>671.130005</td>\n",
       "      <td>14854200</td>\n",
       "      <td>3.236471</td>\n",
       "    </tr>\n",
       "    <tr>\n",
       "      <th>5627</th>\n",
       "      <td>2021-06-03</td>\n",
       "      <td>668.030029</td>\n",
       "      <td>690.359985</td>\n",
       "      <td>663.320007</td>\n",
       "      <td>678.789978</td>\n",
       "      <td>678.789978</td>\n",
       "      <td>14500200</td>\n",
       "      <td>1.610698</td>\n",
       "    </tr>\n",
       "    <tr>\n",
       "      <th>5628</th>\n",
       "      <td>2021-06-04</td>\n",
       "      <td>684.500000</td>\n",
       "      <td>706.440002</td>\n",
       "      <td>683.820007</td>\n",
       "      <td>703.130005</td>\n",
       "      <td>703.130005</td>\n",
       "      <td>15411300</td>\n",
       "      <td>2.721695</td>\n",
       "    </tr>\n",
       "  </tbody>\n",
       "</table>\n",
       "<p>1617 rows × 8 columns</p>\n",
       "</div>"
      ],
      "text/plain": [
       "           Date        Open        High         Low       Close   Adj Close  \\\n",
       "4012 2015-01-02   20.129999   20.280001   19.809999   20.129999   19.368101   \n",
       "4013 2015-01-05   20.129999   20.190001   19.700001   19.790001   19.040976   \n",
       "4014 2015-01-06   19.820000   19.840000   19.170000   19.190001   18.463682   \n",
       "4015 2015-01-07   19.330000   19.500000   19.080000   19.139999   18.415575   \n",
       "4016 2015-01-08   19.360001   19.980000   19.350000   19.860001   19.108328   \n",
       "...         ...         ...         ...         ...         ...         ...   \n",
       "5624 2021-05-28  620.039978  651.099976  620.039978  649.780029  649.780029   \n",
       "5625 2021-06-01  650.799988  655.530029  636.130005  650.580017  650.580017   \n",
       "5626 2021-06-02  650.090027  676.750000  649.419983  671.130005  671.130005   \n",
       "5627 2021-06-03  668.030029  690.359985  663.320007  678.789978  678.789978   \n",
       "5628 2021-06-04  684.500000  706.440002  683.820007  703.130005  703.130005   \n",
       "\n",
       "        Volume  daily_change  \n",
       "4012   2842000      0.000000  \n",
       "4013   4948800     -1.689012  \n",
       "4014   4944100     -3.178602  \n",
       "4015   8045200     -0.982933  \n",
       "4016   7094500      2.582644  \n",
       "...        ...           ...  \n",
       "5624  16113400      4.796473  \n",
       "5625  11820100     -0.033800  \n",
       "5626  14854200      3.236471  \n",
       "5627  14500200      1.610698  \n",
       "5628  15411300      2.721695  \n",
       "\n",
       "[1617 rows x 8 columns]"
      ]
     },
     "execution_count": 110,
     "metadata": {},
     "output_type": "execute_result"
    }
   ],
   "source": [
    "df"
   ]
  },
  {
   "cell_type": "code",
   "execution_count": 111,
   "metadata": {},
   "outputs": [
    {
     "data": {
      "text/plain": [
       "<AxesSubplot:xlabel='daily_change', ylabel='Volume'>"
      ]
     },
     "execution_count": 111,
     "metadata": {},
     "output_type": "execute_result"
    },
    {
     "data": {
      "image/png": "[encoded data removed]",
      "text/plain": [
       "<Figure size 432x288 with 1 Axes>"
      ]
     },
     "metadata": {
      "needs_background": "light"
     },
     "output_type": "display_data"
    }
   ],
   "source": [
    "sns.regplot(x=df.daily_change, y=df.Volume, line_kws={\"color\": \"red\"})"
   ]
  },
  {
   "cell_type": "code",
   "execution_count": 120,
   "metadata": {},
   "outputs": [
    {
     "data": {
      "text/html": [
       "<div>\n",
       "<style scoped>\n",
       "    .dataframe tbody tr th:only-of-type {\n",
       "        vertical-align: middle;\n",
       "    }\n",
       "\n",
       "    .dataframe tbody tr th {\n",
       "        vertical-align: top;\n",
       "    }\n",
       "\n",
       "    .dataframe thead th {\n",
       "        text-align: right;\n",
       "    }\n",
       "</style>\n",
       "<table border=\"1\" class=\"dataframe\">\n",
       "  <thead>\n",
       "    <tr style=\"text-align: right;\">\n",
       "      <th></th>\n",
       "      <th>Open</th>\n",
       "      <th>High</th>\n",
       "      <th>Low</th>\n",
       "      <th>Close</th>\n",
       "      <th>Adj Close</th>\n",
       "      <th>Volume</th>\n",
       "      <th>daily_change</th>\n",
       "    </tr>\n",
       "    <tr>\n",
       "      <th>Date</th>\n",
       "      <th></th>\n",
       "      <th></th>\n",
       "      <th></th>\n",
       "      <th></th>\n",
       "      <th></th>\n",
       "      <th></th>\n",
       "      <th></th>\n",
       "    </tr>\n",
       "  </thead>\n",
       "  <tbody>\n",
       "    <tr>\n",
       "      <th>2016-11-11</th>\n",
       "      <td>79.510002</td>\n",
       "      <td>88.769997</td>\n",
       "      <td>78.500000</td>\n",
       "      <td>87.970001</td>\n",
       "      <td>86.741577</td>\n",
       "      <td>54383600</td>\n",
       "      <td>10.640170</td>\n",
       "    </tr>\n",
       "    <tr>\n",
       "      <th>2016-12-29</th>\n",
       "      <td>104.900002</td>\n",
       "      <td>111.489998</td>\n",
       "      <td>102.800003</td>\n",
       "      <td>111.430000</td>\n",
       "      <td>110.038460</td>\n",
       "      <td>54384200</td>\n",
       "      <td>6.224974</td>\n",
       "    </tr>\n",
       "    <tr>\n",
       "      <th>2017-05-10</th>\n",
       "      <td>114.290001</td>\n",
       "      <td>121.820000</td>\n",
       "      <td>114.019997</td>\n",
       "      <td>121.290001</td>\n",
       "      <td>119.926491</td>\n",
       "      <td>53227400</td>\n",
       "      <td>6.124770</td>\n",
       "    </tr>\n",
       "    <tr>\n",
       "      <th>2018-02-06</th>\n",
       "      <td>204.399994</td>\n",
       "      <td>225.699997</td>\n",
       "      <td>204.000000</td>\n",
       "      <td>225.580002</td>\n",
       "      <td>223.630890</td>\n",
       "      <td>27870000</td>\n",
       "      <td>10.362039</td>\n",
       "    </tr>\n",
       "    <tr>\n",
       "      <th>2018-10-25</th>\n",
       "      <td>195.470001</td>\n",
       "      <td>209.750000</td>\n",
       "      <td>193.679993</td>\n",
       "      <td>207.839996</td>\n",
       "      <td>206.412537</td>\n",
       "      <td>23793000</td>\n",
       "      <td>6.328334</td>\n",
       "    </tr>\n",
       "    <tr>\n",
       "      <th>2018-10-30</th>\n",
       "      <td>186.550003</td>\n",
       "      <td>203.399994</td>\n",
       "      <td>185.619995</td>\n",
       "      <td>203.000000</td>\n",
       "      <td>201.605789</td>\n",
       "      <td>20179800</td>\n",
       "      <td>8.818010</td>\n",
       "    </tr>\n",
       "    <tr>\n",
       "      <th>2018-11-20</th>\n",
       "      <td>134.059998</td>\n",
       "      <td>154.259995</td>\n",
       "      <td>133.309998</td>\n",
       "      <td>149.080002</td>\n",
       "      <td>148.056122</td>\n",
       "      <td>42300800</td>\n",
       "      <td>11.203942</td>\n",
       "    </tr>\n",
       "    <tr>\n",
       "      <th>2019-03-11</th>\n",
       "      <td>151.589996</td>\n",
       "      <td>162.059998</td>\n",
       "      <td>149.690002</td>\n",
       "      <td>161.139999</td>\n",
       "      <td>160.358490</td>\n",
       "      <td>21493200</td>\n",
       "      <td>6.299890</td>\n",
       "    </tr>\n",
       "    <tr>\n",
       "      <th>2020-02-28</th>\n",
       "      <td>242.460007</td>\n",
       "      <td>272.459991</td>\n",
       "      <td>241.789993</td>\n",
       "      <td>270.070007</td>\n",
       "      <td>269.693268</td>\n",
       "      <td>28331300</td>\n",
       "      <td>11.387445</td>\n",
       "    </tr>\n",
       "    <tr>\n",
       "      <th>2020-03-17</th>\n",
       "      <td>200.910004</td>\n",
       "      <td>220.860001</td>\n",
       "      <td>191.000000</td>\n",
       "      <td>217.270004</td>\n",
       "      <td>216.966934</td>\n",
       "      <td>20840800</td>\n",
       "      <td>8.142949</td>\n",
       "    </tr>\n",
       "    <tr>\n",
       "      <th>2020-03-24</th>\n",
       "      <td>229.000000</td>\n",
       "      <td>252.660004</td>\n",
       "      <td>228.050003</td>\n",
       "      <td>249.179993</td>\n",
       "      <td>248.832397</td>\n",
       "      <td>27541100</td>\n",
       "      <td>8.812224</td>\n",
       "    </tr>\n",
       "    <tr>\n",
       "      <th>2020-05-15</th>\n",
       "      <td>315.589996</td>\n",
       "      <td>340.019989</td>\n",
       "      <td>314.959991</td>\n",
       "      <td>339.630005</td>\n",
       "      <td>339.156281</td>\n",
       "      <td>24691500</td>\n",
       "      <td>7.617481</td>\n",
       "    </tr>\n",
       "    <tr>\n",
       "      <th>2021-04-12</th>\n",
       "      <td>571.590027</td>\n",
       "      <td>614.099976</td>\n",
       "      <td>565.570007</td>\n",
       "      <td>608.359985</td>\n",
       "      <td>608.359985</td>\n",
       "      <td>21733100</td>\n",
       "      <td>6.432925</td>\n",
       "    </tr>\n",
       "  </tbody>\n",
       "</table>\n",
       "</div>"
      ],
      "text/plain": [
       "                  Open        High         Low       Close   Adj Close  \\\n",
       "Date                                                                     \n",
       "2016-11-11   79.510002   88.769997   78.500000   87.970001   86.741577   \n",
       "2016-12-29  104.900002  111.489998  102.800003  111.430000  110.038460   \n",
       "2017-05-10  114.290001  121.820000  114.019997  121.290001  119.926491   \n",
       "2018-02-06  204.399994  225.699997  204.000000  225.580002  223.630890   \n",
       "2018-10-25  195.470001  209.750000  193.679993  207.839996  206.412537   \n",
       "2018-10-30  186.550003  203.399994  185.619995  203.000000  201.605789   \n",
       "2018-11-20  134.059998  154.259995  133.309998  149.080002  148.056122   \n",
       "2019-03-11  151.589996  162.059998  149.690002  161.139999  160.358490   \n",
       "2020-02-28  242.460007  272.459991  241.789993  270.070007  269.693268   \n",
       "2020-03-17  200.910004  220.860001  191.000000  217.270004  216.966934   \n",
       "2020-03-24  229.000000  252.660004  228.050003  249.179993  248.832397   \n",
       "2020-05-15  315.589996  340.019989  314.959991  339.630005  339.156281   \n",
       "2021-04-12  571.590027  614.099976  565.570007  608.359985  608.359985   \n",
       "\n",
       "              Volume  daily_change  \n",
       "Date                                \n",
       "2016-11-11  54383600     10.640170  \n",
       "2016-12-29  54384200      6.224974  \n",
       "2017-05-10  53227400      6.124770  \n",
       "2018-02-06  27870000     10.362039  \n",
       "2018-10-25  23793000      6.328334  \n",
       "2018-10-30  20179800      8.818010  \n",
       "2018-11-20  42300800     11.203942  \n",
       "2019-03-11  21493200      6.299890  \n",
       "2020-02-28  28331300     11.387445  \n",
       "2020-03-17  20840800      8.142949  \n",
       "2020-03-24  27541100      8.812224  \n",
       "2020-05-15  24691500      7.617481  \n",
       "2021-04-12  21733100      6.432925  "
      ]
     },
     "execution_count": 120,
     "metadata": {},
     "output_type": "execute_result"
    }
   ],
   "source": [
    "df[df.daily_change >= 6]"
   ]
  },
  {
   "cell_type": "code",
   "execution_count": 113,
   "metadata": {},
   "outputs": [],
   "source": [
    "df.set_index('Date', inplace = True)"
   ]
  },
  {
   "cell_type": "code",
   "execution_count": 114,
   "metadata": {},
   "outputs": [
    {
     "data": {
      "text/plain": [
       "[<matplotlib.lines.Line2D at 0x21ba75251f0>]"
      ]
     },
     "execution_count": 114,
     "metadata": {},
     "output_type": "execute_result"
    },
    {
     "data": {
      "image/png": "[encoded data removed]",
      "text/plain": [
       "<Figure size 432x288 with 1 Axes>"
      ]
     },
     "metadata": {
      "needs_background": "light"
     },
     "output_type": "display_data"
    }
   ],
   "source": [
    "plt.plot(df['daily_change'])"
   ]
  },
  {
   "cell_type": "code",
   "execution_count": 115,
   "metadata": {},
   "outputs": [],
   "source": [
    "monthly = df.resample('MS').mean()"
   ]
  },
  {
   "cell_type": "code",
   "execution_count": 116,
   "metadata": {},
   "outputs": [
    {
     "data": {
      "text/plain": [
       "[<matplotlib.lines.Line2D at 0x21ba75768b0>]"
      ]
     },
     "execution_count": 116,
     "metadata": {},
     "output_type": "execute_result"
    },
    {
     "data": {
      "image/png": "[encoded data removed]",
      "text/plain": [
       "<Figure size 432x288 with 1 Axes>"
      ]
     },
     "metadata": {
      "needs_background": "light"
     },
     "output_type": "display_data"
    }
   ],
   "source": [
    "plt.plot(monthly['daily_change'])"
   ]
  },
  {
   "cell_type": "code",
   "execution_count": 117,
   "metadata": {},
   "outputs": [
    {
     "data": {
      "text/plain": [
       "[<matplotlib.lines.Line2D at 0x21ba75fbf10>]"
      ]
     },
     "execution_count": 117,
     "metadata": {},
     "output_type": "execute_result"
    },
    {
     "data": {
      "image/png": "[encoded data removed]",
      "text/plain": [
       "<Figure size 432x288 with 1 Axes>"
      ]
     },
     "metadata": {
      "needs_background": "light"
     },
     "output_type": "display_data"
    }
   ],
   "source": [
    "roll_mean = monthly['daily_change'].rolling(window = 3).mean()\n",
    "roll_std = monthly['daily_change'].rolling(window = 3).std()\n",
    "plt.plot(monthly['daily_change'], color = 'blue')\n",
    "plt.plot(roll_mean, color = 'red')\n",
    "plt.plot(roll_std, color = 'green')"
   ]
  },
  {
   "cell_type": "code",
   "execution_count": null,
   "metadata": {},
   "outputs": [],
   "source": []
  },
  {
   "cell_type": "code",
   "execution_count": 119,
   "metadata": {},
   "outputs": [
    {
     "name": "stdout",
     "output_type": "stream",
     "text": [
      "Test Statistic                -1.218587e+01\n",
      "p-value                        1.319206e-22\n",
      "#Lags Used                     1.100000e+01\n",
      "Number of Observations Used    1.605000e+03\n",
      "dtype: float64\n"
     ]
    }
   ],
   "source": [
    "test = adfuller(df['daily_change'])\n",
    "dfoutput = pd.Series(test[0:4], index=['Test Statistic','p-value','#Lags Used','Number of Observations Used'])\n",
    "print(dfoutput)"
   ]
  },
  {
   "cell_type": "code",
   "execution_count": null,
   "metadata": {},
   "outputs": [],
   "source": []
  }
 ],
 "metadata": {
  "kernelspec": {
   "display_name": "Python 3",
   "language": "python",
   "name": "python3"
  },
  "language_info": {
   "codemirror_mode": {
    "name": "ipython",
    "version": 3
   },
   "file_extension": ".py",
   "mimetype": "text/x-python",
   "name": "python",
   "nbconvert_exporter": "python",
   "pygments_lexer": "ipython3",
   "version": "3.8.5"
  }
 },
 "nbformat": 4,
 "nbformat_minor": 4
}
